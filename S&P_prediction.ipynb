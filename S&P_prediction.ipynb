{
  "nbformat": 4,
  "nbformat_minor": 0,
  "metadata": {
    "colab": {
      "name": "Untitled56.ipynb",
      "provenance": [],
      "include_colab_link": true
    },
    "kernelspec": {
      "name": "python3",
      "display_name": "Python 3"
    },
    "accelerator": "TPU"
  },
  "cells": [
    {
      "cell_type": "markdown",
      "metadata": {
        "id": "view-in-github",
        "colab_type": "text"
      },
      "source": [
        "<a href=\"https://colab.research.google.com/github/newbiepawel/time_series/blob/master/S%26P_prediction.ipynb\" target=\"_parent\"><img src=\"https://colab.research.google.com/assets/colab-badge.svg\" alt=\"Open In Colab\"/></a>"
      ]
    },
    {
      "cell_type": "code",
      "metadata": {
        "id": "3uISJjEqlvLE",
        "colab_type": "code",
        "colab": {
          "base_uri": "https://localhost:8080/",
          "height": 102
        },
        "outputId": "eac575de-bda6-4f8d-9402-06ba13641304"
      },
      "source": [
        "!ln -sf /opt/bin/nvidia-smi /usr/bin/nvidia-smi\n",
        "!pip install gputil\n",
        "!pip install psutil\n",
        "!pip install humanize\n",
        "import psutil\n",
        "import humanize\n",
        "import os\n",
        "import GPUtil as GPU\n",
        "GPUs = GPU.getGPUs()\n",
        "# XXX: only one GPU on Colab and isn’t guaranteed\n",
        "gpu = GPUs[0]\n",
        "def printm():\n",
        " process = psutil.Process(os.getpid())\n",
        " print(\"Gen RAM Free: \" + humanize.naturalsize( psutil.virtual_memory().available ), \" | Proc size: \" + humanize.naturalsize( process.memory_info().rss))\n",
        " print(\"GPU RAM Free: {0:.0f}MB | Used: {1:.0f}MB | Util {2:3.0f}% | Total {3:.0f}MB\".format(gpu.memoryFree, gpu.memoryUsed, gpu.memoryUtil*100, gpu.memoryTotal))\n",
        "printm() "
      ],
      "execution_count": 17,
      "outputs": [
        {
          "output_type": "stream",
          "text": [
            "Requirement already satisfied: gputil in /usr/local/lib/python3.6/dist-packages (1.4.0)\n",
            "Requirement already satisfied: psutil in /usr/local/lib/python3.6/dist-packages (5.4.8)\n",
            "Requirement already satisfied: humanize in /usr/local/lib/python3.6/dist-packages (0.5.1)\n",
            "Gen RAM Free: 12.1 GB  | Proc size: 1.3 GB\n",
            "GPU RAM Free: 11257MB | Used: 184MB | Util   2% | Total 11441MB\n"
          ],
          "name": "stdout"
        }
      ]
    },
    {
      "cell_type": "code",
      "metadata": {
        "id": "Gf4TKO3jmA9Q",
        "colab_type": "code",
        "colab": {}
      },
      "source": [
        "!kill -9 -1"
      ],
      "execution_count": 0,
      "outputs": []
    },
    {
      "cell_type": "code",
      "metadata": {
        "id": "chrQunFomGbj",
        "colab_type": "code",
        "colab": {
          "base_uri": "https://localhost:8080/",
          "height": 102
        },
        "outputId": "52982a8c-cea2-4363-c6fd-81e19ec88b55"
      },
      "source": [
        "!ln -sf /opt/bin/nvidia-smi /usr/bin/nvidia-smi\n",
        "!pip install gputil\n",
        "!pip install psutil\n",
        "!pip install humanize\n",
        "import psutil\n",
        "import humanize\n",
        "import os\n",
        "import GPUtil as GPU\n",
        "GPUs = GPU.getGPUs()\n",
        "# XXX: only one GPU on Colab and isn’t guaranteed\n",
        "gpu = GPUs[0]\n",
        "def printm():\n",
        " process = psutil.Process(os.getpid())\n",
        " print(\"Gen RAM Free: \" + humanize.naturalsize( psutil.virtual_memory().available ), \" | Proc size: \" + humanize.naturalsize( process.memory_info().rss))\n",
        " print(\"GPU RAM Free: {0:.0f}MB | Used: {1:.0f}MB | Util {2:3.0f}% | Total {3:.0f}MB\".format(gpu.memoryFree, gpu.memoryUsed, gpu.memoryUtil*100, gpu.memoryTotal))\n",
        "printm() "
      ],
      "execution_count": 17,
      "outputs": [
        {
          "output_type": "stream",
          "text": [
            "Requirement already satisfied: gputil in /usr/local/lib/python3.6/dist-packages (1.4.0)\n",
            "Requirement already satisfied: psutil in /usr/local/lib/python3.6/dist-packages (5.4.8)\n",
            "Requirement already satisfied: humanize in /usr/local/lib/python3.6/dist-packages (0.5.1)\n",
            "Gen RAM Free: 12.1 GB  | Proc size: 1.3 GB\n",
            "GPU RAM Free: 11257MB | Used: 184MB | Util   2% | Total 11441MB\n"
          ],
          "name": "stdout"
        }
      ]
    },
    {
      "cell_type": "code",
      "metadata": {
        "id": "7Qmd18cZmLmD",
        "colab_type": "code",
        "colab": {}
      },
      "source": [
        "import numpy as np\n",
        "import pandas as pd\n",
        "import pandas_datareader as pdr\n",
        "import matplotlib.pyplot as plt"
      ],
      "execution_count": 0,
      "outputs": []
    },
    {
      "cell_type": "code",
      "metadata": {
        "id": "He2doCVnmNps",
        "colab_type": "code",
        "colab": {}
      },
      "source": [
        "df = pdr.get_data_yahoo('^GSPC','10/18/2010',interval='d')"
      ],
      "execution_count": 0,
      "outputs": []
    },
    {
      "cell_type": "code",
      "metadata": {
        "id": "WUu5_CzcGGkT",
        "colab_type": "code",
        "colab": {
          "base_uri": "https://localhost:8080/",
          "height": 235
        },
        "outputId": "a35445a7-e441-4814-d8af-94f779899c2d"
      },
      "source": [
        "df.head()"
      ],
      "execution_count": 79,
      "outputs": [
        {
          "output_type": "execute_result",
          "data": {
            "text/html": [
              "<div>\n",
              "<style scoped>\n",
              "    .dataframe tbody tr th:only-of-type {\n",
              "        vertical-align: middle;\n",
              "    }\n",
              "\n",
              "    .dataframe tbody tr th {\n",
              "        vertical-align: top;\n",
              "    }\n",
              "\n",
              "    .dataframe thead th {\n",
              "        text-align: right;\n",
              "    }\n",
              "</style>\n",
              "<table border=\"1\" class=\"dataframe\">\n",
              "  <thead>\n",
              "    <tr style=\"text-align: right;\">\n",
              "      <th></th>\n",
              "      <th>High</th>\n",
              "      <th>Low</th>\n",
              "      <th>Open</th>\n",
              "      <th>Close</th>\n",
              "      <th>Volume</th>\n",
              "      <th>Adj Close</th>\n",
              "    </tr>\n",
              "    <tr>\n",
              "      <th>Date</th>\n",
              "      <th></th>\n",
              "      <th></th>\n",
              "      <th></th>\n",
              "      <th></th>\n",
              "      <th></th>\n",
              "      <th></th>\n",
              "    </tr>\n",
              "  </thead>\n",
              "  <tbody>\n",
              "    <tr>\n",
              "      <th>2010-10-18</th>\n",
              "      <td>1185.530029</td>\n",
              "      <td>1174.550049</td>\n",
              "      <td>1176.829956</td>\n",
              "      <td>1184.709961</td>\n",
              "      <td>4450050000</td>\n",
              "      <td>1184.709961</td>\n",
              "    </tr>\n",
              "    <tr>\n",
              "      <th>2010-10-19</th>\n",
              "      <td>1178.640015</td>\n",
              "      <td>1159.709961</td>\n",
              "      <td>1178.640015</td>\n",
              "      <td>1165.900024</td>\n",
              "      <td>5600120000</td>\n",
              "      <td>1165.900024</td>\n",
              "    </tr>\n",
              "    <tr>\n",
              "      <th>2010-10-20</th>\n",
              "      <td>1182.939941</td>\n",
              "      <td>1166.739990</td>\n",
              "      <td>1166.739990</td>\n",
              "      <td>1178.170044</td>\n",
              "      <td>5027880000</td>\n",
              "      <td>1178.170044</td>\n",
              "    </tr>\n",
              "    <tr>\n",
              "      <th>2010-10-21</th>\n",
              "      <td>1189.430054</td>\n",
              "      <td>1171.170044</td>\n",
              "      <td>1179.819946</td>\n",
              "      <td>1180.260010</td>\n",
              "      <td>4625470000</td>\n",
              "      <td>1180.260010</td>\n",
              "    </tr>\n",
              "    <tr>\n",
              "      <th>2010-10-22</th>\n",
              "      <td>1183.930054</td>\n",
              "      <td>1178.989990</td>\n",
              "      <td>1180.520020</td>\n",
              "      <td>1183.079956</td>\n",
              "      <td>3177890000</td>\n",
              "      <td>1183.079956</td>\n",
              "    </tr>\n",
              "  </tbody>\n",
              "</table>\n",
              "</div>"
            ],
            "text/plain": [
              "                   High          Low  ...      Volume    Adj Close\n",
              "Date                                  ...                         \n",
              "2010-10-18  1185.530029  1174.550049  ...  4450050000  1184.709961\n",
              "2010-10-19  1178.640015  1159.709961  ...  5600120000  1165.900024\n",
              "2010-10-20  1182.939941  1166.739990  ...  5027880000  1178.170044\n",
              "2010-10-21  1189.430054  1171.170044  ...  4625470000  1180.260010\n",
              "2010-10-22  1183.930054  1178.989990  ...  3177890000  1183.079956\n",
              "\n",
              "[5 rows x 6 columns]"
            ]
          },
          "metadata": {
            "tags": []
          },
          "execution_count": 79
        }
      ]
    },
    {
      "cell_type": "code",
      "metadata": {
        "id": "SLgVD0F_mNsU",
        "colab_type": "code",
        "colab": {}
      },
      "source": [
        "df_train =df.iloc[0:-100, 2:3].values"
      ],
      "execution_count": 0,
      "outputs": []
    },
    {
      "cell_type": "code",
      "metadata": {
        "id": "YATewjnnmNu6",
        "colab_type": "code",
        "colab": {}
      },
      "source": [
        "df_test = df.iloc[-100:,2:3].values"
      ],
      "execution_count": 0,
      "outputs": []
    },
    {
      "cell_type": "code",
      "metadata": {
        "id": "WYwS1I2imNxh",
        "colab_type": "code",
        "colab": {
          "base_uri": "https://localhost:8080/",
          "height": 51
        },
        "outputId": "f67b7326-928f-4bc1-cd2a-227b806e5200"
      },
      "source": [
        "print(f'training set consists of {len(df_train)} records', '\\n', f'test set consists of {len(df_test)} records')"
      ],
      "execution_count": 6,
      "outputs": [
        {
          "output_type": "stream",
          "text": [
            "training set consists of 2166 records \n",
            " test set consists of 100 records\n"
          ],
          "name": "stdout"
        }
      ]
    },
    {
      "cell_type": "code",
      "metadata": {
        "id": "QN-KI3MImN03",
        "colab_type": "code",
        "colab": {}
      },
      "source": [
        "# Feature Scaling\n",
        "from sklearn.preprocessing import MinMaxScaler\n",
        "sc = MinMaxScaler(feature_range = (0, 1))\n",
        "training_set_scaled = sc.fit_transform(df_train)"
      ],
      "execution_count": 0,
      "outputs": []
    },
    {
      "cell_type": "code",
      "metadata": {
        "id": "oINxY9Uvmble",
        "colab_type": "code",
        "colab": {}
      },
      "source": [
        "# Creating a data structure with 60 timesteps and 1 output\n",
        "X_train = []\n",
        "y_train = []\n",
        "for i in range(70, 2166):\n",
        "    X_train.append(training_set_scaled[i-70:i, 0])\n",
        "    y_train.append(training_set_scaled[i, 0])\n",
        "X_train, y_train = np.array(X_train), np.array(y_train)"
      ],
      "execution_count": 0,
      "outputs": []
    },
    {
      "cell_type": "code",
      "metadata": {
        "id": "fvcDSIzimboN",
        "colab_type": "code",
        "colab": {}
      },
      "source": [
        "# Reshaping\n",
        "X_train = np.reshape(X_train, (X_train.shape[0], X_train.shape[1], 1))"
      ],
      "execution_count": 0,
      "outputs": []
    },
    {
      "cell_type": "code",
      "metadata": {
        "id": "RAiJdibZmbq1",
        "colab_type": "code",
        "colab": {
          "base_uri": "https://localhost:8080/",
          "height": 34
        },
        "outputId": "bffb28ae-e6d5-4c09-e2f5-3b3e8efa034e"
      },
      "source": [
        "# Part 2 - Building the RNN\n",
        "\n",
        "# Importing the Keras libraries and packages\n",
        "from keras.models import Sequential\n",
        "from keras.layers import Dense\n",
        "from keras.layers import LSTM\n",
        "from keras.layers import Dropout\n",
        "from tensorflow import keras"
      ],
      "execution_count": 10,
      "outputs": [
        {
          "output_type": "stream",
          "text": [
            "Using TensorFlow backend.\n"
          ],
          "name": "stderr"
        }
      ]
    },
    {
      "cell_type": "code",
      "metadata": {
        "id": "E3fhXSCWmbuf",
        "colab_type": "code",
        "colab": {
          "base_uri": "https://localhost:8080/",
          "height": 238
        },
        "outputId": "331975fd-b014-4d14-fb09-6d964e5198c7"
      },
      "source": [
        "# Initialising the RNN\n",
        "regressor = Sequential()\n",
        "\n",
        "# Adding the first LSTM layer and some Dropout regularisation\n",
        "regressor.add(LSTM(units = 50, return_sequences = True, input_shape = (X_train.shape[1], 1)))\n",
        "regressor.add(Dropout(0.2))\n",
        "\n",
        "# Adding a second LSTM layer and some Dropout regularisation\n",
        "regressor.add(LSTM(units = 50, return_sequences = True))\n",
        "regressor.add(Dropout(0.2))\n",
        "\n",
        "# Adding a third LSTM layer and some Dropout regularisation\n",
        "regressor.add(LSTM(units = 50, return_sequences = True))\n",
        "regressor.add(Dropout(0.2))\n",
        "\n",
        "# Adding a fourth LSTM layer and some Dropout regularisation\n",
        "regressor.add(LSTM(units = 50))\n",
        "regressor.add(Dropout(0.2))\n",
        "\n",
        "# Adding the output layer\n",
        "regressor.add(Dense(units = 1))\n",
        "\n",
        "# Compiling the RNN\n",
        "regressor.compile(optimizer = 'adam', loss = 'mean_squared_error')"
      ],
      "execution_count": 11,
      "outputs": [
        {
          "output_type": "stream",
          "text": [
            "WARNING:tensorflow:From /usr/local/lib/python3.6/dist-packages/keras/backend/tensorflow_backend.py:66: The name tf.get_default_graph is deprecated. Please use tf.compat.v1.get_default_graph instead.\n",
            "\n",
            "WARNING:tensorflow:From /usr/local/lib/python3.6/dist-packages/keras/backend/tensorflow_backend.py:541: The name tf.placeholder is deprecated. Please use tf.compat.v1.placeholder instead.\n",
            "\n",
            "WARNING:tensorflow:From /usr/local/lib/python3.6/dist-packages/keras/backend/tensorflow_backend.py:4432: The name tf.random_uniform is deprecated. Please use tf.random.uniform instead.\n",
            "\n",
            "WARNING:tensorflow:From /usr/local/lib/python3.6/dist-packages/keras/backend/tensorflow_backend.py:148: The name tf.placeholder_with_default is deprecated. Please use tf.compat.v1.placeholder_with_default instead.\n",
            "\n",
            "WARNING:tensorflow:From /usr/local/lib/python3.6/dist-packages/keras/backend/tensorflow_backend.py:3733: calling dropout (from tensorflow.python.ops.nn_ops) with keep_prob is deprecated and will be removed in a future version.\n",
            "Instructions for updating:\n",
            "Please use `rate` instead of `keep_prob`. Rate should be set to `rate = 1 - keep_prob`.\n",
            "WARNING:tensorflow:From /usr/local/lib/python3.6/dist-packages/keras/optimizers.py:793: The name tf.train.Optimizer is deprecated. Please use tf.compat.v1.train.Optimizer instead.\n",
            "\n"
          ],
          "name": "stdout"
        }
      ]
    },
    {
      "cell_type": "code",
      "metadata": {
        "id": "yKYDOS4kmoTl",
        "colab_type": "code",
        "colab": {}
      },
      "source": [
        "early_stop = keras.callbacks.EarlyStopping(monitor='loss', patience=20, verbose=0)"
      ],
      "execution_count": 0,
      "outputs": []
    },
    {
      "cell_type": "code",
      "metadata": {
        "id": "EX46T_ZxmoW5",
        "colab_type": "code",
        "colab": {
          "base_uri": "https://localhost:8080/",
          "height": 1000
        },
        "outputId": "7a0e24dc-9fcf-484a-ba22-7107e041f2e1"
      },
      "source": [
        "history = regressor.fit(X_train, y_train, epochs = 400, batch_size = 32)"
      ],
      "execution_count": 13,
      "outputs": [
        {
          "output_type": "stream",
          "text": [
            "WARNING:tensorflow:From /usr/local/lib/python3.6/dist-packages/tensorflow_core/python/ops/math_grad.py:1424: where (from tensorflow.python.ops.array_ops) is deprecated and will be removed in a future version.\n",
            "Instructions for updating:\n",
            "Use tf.where in 2.0, which has the same broadcast rule as np.where\n",
            "WARNING:tensorflow:From /usr/local/lib/python3.6/dist-packages/keras/backend/tensorflow_backend.py:1033: The name tf.assign_add is deprecated. Please use tf.compat.v1.assign_add instead.\n",
            "\n",
            "WARNING:tensorflow:From /usr/local/lib/python3.6/dist-packages/keras/backend/tensorflow_backend.py:1020: The name tf.assign is deprecated. Please use tf.compat.v1.assign instead.\n",
            "\n",
            "WARNING:tensorflow:From /usr/local/lib/python3.6/dist-packages/keras/backend/tensorflow_backend.py:3005: The name tf.Session is deprecated. Please use tf.compat.v1.Session instead.\n",
            "\n",
            "Epoch 1/400\n",
            "WARNING:tensorflow:From /usr/local/lib/python3.6/dist-packages/keras/backend/tensorflow_backend.py:190: The name tf.get_default_session is deprecated. Please use tf.compat.v1.get_default_session instead.\n",
            "\n",
            "WARNING:tensorflow:From /usr/local/lib/python3.6/dist-packages/keras/backend/tensorflow_backend.py:197: The name tf.ConfigProto is deprecated. Please use tf.compat.v1.ConfigProto instead.\n",
            "\n",
            "WARNING:tensorflow:From /usr/local/lib/python3.6/dist-packages/keras/backend/tensorflow_backend.py:207: The name tf.global_variables is deprecated. Please use tf.compat.v1.global_variables instead.\n",
            "\n",
            "WARNING:tensorflow:From /usr/local/lib/python3.6/dist-packages/keras/backend/tensorflow_backend.py:216: The name tf.is_variable_initialized is deprecated. Please use tf.compat.v1.is_variable_initialized instead.\n",
            "\n",
            "WARNING:tensorflow:From /usr/local/lib/python3.6/dist-packages/keras/backend/tensorflow_backend.py:223: The name tf.variables_initializer is deprecated. Please use tf.compat.v1.variables_initializer instead.\n",
            "\n",
            "2096/2096 [==============================] - 16s 8ms/step - loss: 0.0278\n",
            "Epoch 2/400\n",
            "2096/2096 [==============================] - 13s 6ms/step - loss: 0.0041\n",
            "Epoch 3/400\n",
            "2096/2096 [==============================] - 13s 6ms/step - loss: 0.0037\n",
            "Epoch 4/400\n",
            "2096/2096 [==============================] - 13s 6ms/step - loss: 0.0030\n",
            "Epoch 5/400\n",
            "2096/2096 [==============================] - 13s 6ms/step - loss: 0.0033\n",
            "Epoch 6/400\n",
            "2096/2096 [==============================] - 13s 6ms/step - loss: 0.0033\n",
            "Epoch 7/400\n",
            "2096/2096 [==============================] - 13s 6ms/step - loss: 0.0028\n",
            "Epoch 8/400\n",
            "2096/2096 [==============================] - 13s 6ms/step - loss: 0.0027\n",
            "Epoch 9/400\n",
            "2096/2096 [==============================] - 13s 6ms/step - loss: 0.0027\n",
            "Epoch 10/400\n",
            "2096/2096 [==============================] - 13s 6ms/step - loss: 0.0024\n",
            "Epoch 11/400\n",
            "2096/2096 [==============================] - 13s 6ms/step - loss: 0.0027\n",
            "Epoch 12/400\n",
            "2096/2096 [==============================] - 13s 6ms/step - loss: 0.0027\n",
            "Epoch 13/400\n",
            "2096/2096 [==============================] - 13s 6ms/step - loss: 0.0021\n",
            "Epoch 14/400\n",
            "2096/2096 [==============================] - 13s 6ms/step - loss: 0.0025\n",
            "Epoch 15/400\n",
            "2096/2096 [==============================] - 13s 6ms/step - loss: 0.0021\n",
            "Epoch 16/400\n",
            "2096/2096 [==============================] - 13s 6ms/step - loss: 0.0023\n",
            "Epoch 17/400\n",
            "2096/2096 [==============================] - 13s 6ms/step - loss: 0.0023\n",
            "Epoch 18/400\n",
            "2096/2096 [==============================] - 13s 6ms/step - loss: 0.0022\n",
            "Epoch 19/400\n",
            "2096/2096 [==============================] - 13s 6ms/step - loss: 0.0021\n",
            "Epoch 20/400\n",
            "2096/2096 [==============================] - 13s 6ms/step - loss: 0.0020\n",
            "Epoch 21/400\n",
            "2096/2096 [==============================] - 13s 6ms/step - loss: 0.0021\n",
            "Epoch 22/400\n",
            "2096/2096 [==============================] - 13s 6ms/step - loss: 0.0024\n",
            "Epoch 23/400\n",
            "2096/2096 [==============================] - 13s 6ms/step - loss: 0.0022\n",
            "Epoch 24/400\n",
            "2096/2096 [==============================] - 13s 6ms/step - loss: 0.0020\n",
            "Epoch 25/400\n",
            "2096/2096 [==============================] - 13s 6ms/step - loss: 0.0018\n",
            "Epoch 26/400\n",
            "2096/2096 [==============================] - 13s 6ms/step - loss: 0.0021\n",
            "Epoch 27/400\n",
            "2096/2096 [==============================] - 12s 6ms/step - loss: 0.0018\n",
            "Epoch 28/400\n",
            "2096/2096 [==============================] - 13s 6ms/step - loss: 0.0018\n",
            "Epoch 29/400\n",
            "2096/2096 [==============================] - 13s 6ms/step - loss: 0.0018\n",
            "Epoch 30/400\n",
            "2096/2096 [==============================] - 13s 6ms/step - loss: 0.0017\n",
            "Epoch 31/400\n",
            "2096/2096 [==============================] - 13s 6ms/step - loss: 0.0017\n",
            "Epoch 32/400\n",
            "2096/2096 [==============================] - 13s 6ms/step - loss: 0.0016\n",
            "Epoch 33/400\n",
            "2096/2096 [==============================] - 13s 6ms/step - loss: 0.0017\n",
            "Epoch 34/400\n",
            "2096/2096 [==============================] - 13s 6ms/step - loss: 0.0016\n",
            "Epoch 35/400\n",
            "2096/2096 [==============================] - 13s 6ms/step - loss: 0.0015\n",
            "Epoch 36/400\n",
            "2096/2096 [==============================] - 13s 6ms/step - loss: 0.0015\n",
            "Epoch 37/400\n",
            "2096/2096 [==============================] - 13s 6ms/step - loss: 0.0015\n",
            "Epoch 38/400\n",
            "2096/2096 [==============================] - 13s 6ms/step - loss: 0.0015\n",
            "Epoch 39/400\n",
            "2096/2096 [==============================] - 13s 6ms/step - loss: 0.0014\n",
            "Epoch 40/400\n",
            "2096/2096 [==============================] - 13s 6ms/step - loss: 0.0013\n",
            "Epoch 41/400\n",
            "2096/2096 [==============================] - 13s 6ms/step - loss: 0.0016\n",
            "Epoch 42/400\n",
            "2096/2096 [==============================] - 13s 6ms/step - loss: 0.0014\n",
            "Epoch 43/400\n",
            "2096/2096 [==============================] - 13s 6ms/step - loss: 0.0012\n",
            "Epoch 44/400\n",
            "2096/2096 [==============================] - 13s 6ms/step - loss: 0.0013\n",
            "Epoch 45/400\n",
            "2096/2096 [==============================] - 13s 6ms/step - loss: 0.0014\n",
            "Epoch 46/400\n",
            "2096/2096 [==============================] - 13s 6ms/step - loss: 0.0012\n",
            "Epoch 47/400\n",
            "2096/2096 [==============================] - 13s 6ms/step - loss: 0.0014\n",
            "Epoch 48/400\n",
            "2096/2096 [==============================] - 13s 6ms/step - loss: 0.0012\n",
            "Epoch 49/400\n",
            "2096/2096 [==============================] - 13s 6ms/step - loss: 0.0012\n",
            "Epoch 50/400\n",
            "2096/2096 [==============================] - 13s 6ms/step - loss: 0.0015\n",
            "Epoch 51/400\n",
            "2096/2096 [==============================] - 13s 6ms/step - loss: 0.0011\n",
            "Epoch 52/400\n",
            "2096/2096 [==============================] - 13s 6ms/step - loss: 0.0012\n",
            "Epoch 53/400\n",
            "2096/2096 [==============================] - 13s 6ms/step - loss: 0.0011\n",
            "Epoch 54/400\n",
            "2096/2096 [==============================] - 13s 6ms/step - loss: 0.0012\n",
            "Epoch 55/400\n",
            "2096/2096 [==============================] - 13s 6ms/step - loss: 0.0012\n",
            "Epoch 56/400\n",
            "2096/2096 [==============================] - 13s 6ms/step - loss: 0.0011\n",
            "Epoch 57/400\n",
            "2096/2096 [==============================] - 13s 6ms/step - loss: 0.0012\n",
            "Epoch 58/400\n",
            "2096/2096 [==============================] - 12s 6ms/step - loss: 0.0012\n",
            "Epoch 59/400\n",
            "2096/2096 [==============================] - 13s 6ms/step - loss: 0.0013\n",
            "Epoch 60/400\n",
            "2096/2096 [==============================] - 13s 6ms/step - loss: 0.0012\n",
            "Epoch 61/400\n",
            "2096/2096 [==============================] - 12s 6ms/step - loss: 0.0010\n",
            "Epoch 62/400\n",
            "2096/2096 [==============================] - 13s 6ms/step - loss: 9.9963e-04\n",
            "Epoch 63/400\n",
            "2096/2096 [==============================] - 13s 6ms/step - loss: 0.0012\n",
            "Epoch 64/400\n",
            "2096/2096 [==============================] - 13s 6ms/step - loss: 0.0010\n",
            "Epoch 65/400\n",
            "2096/2096 [==============================] - 13s 6ms/step - loss: 9.7018e-04\n",
            "Epoch 66/400\n",
            "2096/2096 [==============================] - 13s 6ms/step - loss: 0.0011\n",
            "Epoch 67/400\n",
            "2096/2096 [==============================] - 13s 6ms/step - loss: 9.8135e-04\n",
            "Epoch 68/400\n",
            "2096/2096 [==============================] - 13s 6ms/step - loss: 0.0010\n",
            "Epoch 69/400\n",
            "2096/2096 [==============================] - 13s 6ms/step - loss: 9.3867e-04\n",
            "Epoch 70/400\n",
            "2096/2096 [==============================] - 13s 6ms/step - loss: 9.9047e-04\n",
            "Epoch 71/400\n",
            "2096/2096 [==============================] - 13s 6ms/step - loss: 0.0011\n",
            "Epoch 72/400\n",
            "2096/2096 [==============================] - 13s 6ms/step - loss: 9.3619e-04\n",
            "Epoch 73/400\n",
            "2096/2096 [==============================] - 13s 6ms/step - loss: 9.7159e-04\n",
            "Epoch 74/400\n",
            "2096/2096 [==============================] - 13s 6ms/step - loss: 8.9782e-04\n",
            "Epoch 75/400\n",
            "2096/2096 [==============================] - 13s 6ms/step - loss: 9.5225e-04\n",
            "Epoch 76/400\n",
            "2096/2096 [==============================] - 13s 6ms/step - loss: 0.0011\n",
            "Epoch 77/400\n",
            "2096/2096 [==============================] - 13s 6ms/step - loss: 0.0011\n",
            "Epoch 78/400\n",
            "2096/2096 [==============================] - 13s 6ms/step - loss: 0.0012\n",
            "Epoch 79/400\n",
            "2096/2096 [==============================] - 13s 6ms/step - loss: 0.0010\n",
            "Epoch 80/400\n",
            "2096/2096 [==============================] - 12s 6ms/step - loss: 8.2591e-04\n",
            "Epoch 81/400\n",
            "2096/2096 [==============================] - 13s 6ms/step - loss: 9.2534e-04\n",
            "Epoch 82/400\n",
            "2096/2096 [==============================] - 13s 6ms/step - loss: 9.5805e-04\n",
            "Epoch 83/400\n",
            "2096/2096 [==============================] - 13s 6ms/step - loss: 8.1582e-04\n",
            "Epoch 84/400\n",
            "2096/2096 [==============================] - 13s 6ms/step - loss: 9.8602e-04\n",
            "Epoch 85/400\n",
            "2096/2096 [==============================] - 13s 6ms/step - loss: 8.8609e-04\n",
            "Epoch 86/400\n",
            "2096/2096 [==============================] - 13s 6ms/step - loss: 9.2377e-04\n",
            "Epoch 87/400\n",
            "2096/2096 [==============================] - 13s 6ms/step - loss: 8.2769e-04\n",
            "Epoch 88/400\n",
            "2096/2096 [==============================] - 13s 6ms/step - loss: 7.9839e-04\n",
            "Epoch 89/400\n",
            "2096/2096 [==============================] - 13s 6ms/step - loss: 9.6854e-04\n",
            "Epoch 90/400\n",
            "2096/2096 [==============================] - 13s 6ms/step - loss: 8.3196e-04\n",
            "Epoch 91/400\n",
            "2096/2096 [==============================] - 13s 6ms/step - loss: 8.7212e-04\n",
            "Epoch 92/400\n",
            "2096/2096 [==============================] - 13s 6ms/step - loss: 8.5665e-04\n",
            "Epoch 93/400\n",
            "2096/2096 [==============================] - 13s 6ms/step - loss: 8.4250e-04\n",
            "Epoch 94/400\n",
            "2096/2096 [==============================] - 12s 6ms/step - loss: 8.6560e-04\n",
            "Epoch 95/400\n",
            "2096/2096 [==============================] - 13s 6ms/step - loss: 9.3049e-04\n",
            "Epoch 96/400\n",
            "2096/2096 [==============================] - 13s 6ms/step - loss: 8.9787e-04\n",
            "Epoch 97/400\n",
            "2096/2096 [==============================] - 13s 6ms/step - loss: 9.2057e-04\n",
            "Epoch 98/400\n",
            "2096/2096 [==============================] - 13s 6ms/step - loss: 9.3911e-04\n",
            "Epoch 99/400\n",
            "2096/2096 [==============================] - 13s 6ms/step - loss: 8.7603e-04\n",
            "Epoch 100/400\n",
            "2096/2096 [==============================] - 13s 6ms/step - loss: 9.8432e-04\n",
            "Epoch 101/400\n",
            "2096/2096 [==============================] - 13s 6ms/step - loss: 7.9854e-04\n",
            "Epoch 102/400\n",
            "2096/2096 [==============================] - 13s 6ms/step - loss: 8.0330e-04\n",
            "Epoch 103/400\n",
            "2096/2096 [==============================] - 13s 6ms/step - loss: 8.4667e-04\n",
            "Epoch 104/400\n",
            "2096/2096 [==============================] - 13s 6ms/step - loss: 8.1884e-04\n",
            "Epoch 105/400\n",
            "2096/2096 [==============================] - 13s 6ms/step - loss: 8.3791e-04\n",
            "Epoch 106/400\n",
            "2096/2096 [==============================] - 13s 6ms/step - loss: 8.1236e-04\n",
            "Epoch 107/400\n",
            "2096/2096 [==============================] - 13s 6ms/step - loss: 9.2926e-04\n",
            "Epoch 108/400\n",
            "2096/2096 [==============================] - 13s 6ms/step - loss: 9.2518e-04\n",
            "Epoch 109/400\n",
            "2096/2096 [==============================] - 13s 6ms/step - loss: 8.7248e-04\n",
            "Epoch 110/400\n",
            "2096/2096 [==============================] - 13s 6ms/step - loss: 9.8779e-04\n",
            "Epoch 111/400\n",
            "2096/2096 [==============================] - 13s 6ms/step - loss: 9.4346e-04\n",
            "Epoch 112/400\n",
            "2096/2096 [==============================] - 13s 6ms/step - loss: 8.8744e-04\n",
            "Epoch 113/400\n",
            "2096/2096 [==============================] - 13s 6ms/step - loss: 8.6757e-04\n",
            "Epoch 114/400\n",
            "2096/2096 [==============================] - 13s 6ms/step - loss: 8.7257e-04\n",
            "Epoch 115/400\n",
            "2096/2096 [==============================] - 13s 6ms/step - loss: 8.1460e-04\n",
            "Epoch 116/400\n",
            "2096/2096 [==============================] - 13s 6ms/step - loss: 8.0873e-04\n",
            "Epoch 117/400\n",
            "2096/2096 [==============================] - 13s 6ms/step - loss: 8.5765e-04\n",
            "Epoch 118/400\n",
            "2096/2096 [==============================] - 13s 6ms/step - loss: 7.7114e-04\n",
            "Epoch 119/400\n",
            "2096/2096 [==============================] - 13s 6ms/step - loss: 9.0196e-04\n",
            "Epoch 120/400\n",
            "2096/2096 [==============================] - 13s 6ms/step - loss: 8.0040e-04\n",
            "Epoch 121/400\n",
            "2096/2096 [==============================] - 13s 6ms/step - loss: 7.8745e-04\n",
            "Epoch 122/400\n",
            "2096/2096 [==============================] - 13s 6ms/step - loss: 7.5568e-04\n",
            "Epoch 123/400\n",
            "2096/2096 [==============================] - 13s 6ms/step - loss: 8.1933e-04\n",
            "Epoch 124/400\n",
            "2096/2096 [==============================] - 13s 6ms/step - loss: 7.8579e-04\n",
            "Epoch 125/400\n",
            "2096/2096 [==============================] - 13s 6ms/step - loss: 8.1081e-04\n",
            "Epoch 126/400\n",
            "2096/2096 [==============================] - 13s 6ms/step - loss: 9.1242e-04\n",
            "Epoch 127/400\n",
            "2096/2096 [==============================] - 13s 6ms/step - loss: 7.4885e-04\n",
            "Epoch 128/400\n",
            "2096/2096 [==============================] - 13s 6ms/step - loss: 7.6664e-04\n",
            "Epoch 129/400\n",
            "2096/2096 [==============================] - 13s 6ms/step - loss: 8.2132e-04\n",
            "Epoch 130/400\n",
            "2096/2096 [==============================] - 13s 6ms/step - loss: 8.0009e-04\n",
            "Epoch 131/400\n",
            "2096/2096 [==============================] - 13s 6ms/step - loss: 8.8447e-04\n",
            "Epoch 132/400\n",
            "2096/2096 [==============================] - 13s 6ms/step - loss: 8.1080e-04\n",
            "Epoch 133/400\n",
            "2096/2096 [==============================] - 13s 6ms/step - loss: 8.7262e-04\n",
            "Epoch 134/400\n",
            "2096/2096 [==============================] - 13s 6ms/step - loss: 7.8400e-04\n",
            "Epoch 135/400\n",
            "2096/2096 [==============================] - 13s 6ms/step - loss: 7.7081e-04\n",
            "Epoch 136/400\n",
            "2096/2096 [==============================] - 13s 6ms/step - loss: 9.3785e-04\n",
            "Epoch 137/400\n",
            "2096/2096 [==============================] - 13s 6ms/step - loss: 8.8552e-04\n",
            "Epoch 138/400\n",
            "2096/2096 [==============================] - 13s 6ms/step - loss: 9.0722e-04\n",
            "Epoch 139/400\n",
            "2096/2096 [==============================] - 13s 6ms/step - loss: 8.3717e-04\n",
            "Epoch 140/400\n",
            "2096/2096 [==============================] - 13s 6ms/step - loss: 7.9441e-04\n",
            "Epoch 141/400\n",
            "2096/2096 [==============================] - 13s 6ms/step - loss: 7.4726e-04\n",
            "Epoch 142/400\n",
            "2096/2096 [==============================] - 13s 6ms/step - loss: 7.6756e-04\n",
            "Epoch 143/400\n",
            "2096/2096 [==============================] - 13s 6ms/step - loss: 7.7975e-04\n",
            "Epoch 144/400\n",
            "2096/2096 [==============================] - 13s 6ms/step - loss: 7.2635e-04\n",
            "Epoch 145/400\n",
            "2096/2096 [==============================] - 13s 6ms/step - loss: 7.8669e-04\n",
            "Epoch 146/400\n",
            "2096/2096 [==============================] - 13s 6ms/step - loss: 7.8158e-04\n",
            "Epoch 147/400\n",
            "2096/2096 [==============================] - 13s 6ms/step - loss: 7.0496e-04\n",
            "Epoch 148/400\n",
            "2096/2096 [==============================] - 13s 6ms/step - loss: 8.2226e-04\n",
            "Epoch 149/400\n",
            "2096/2096 [==============================] - 13s 6ms/step - loss: 7.8937e-04\n",
            "Epoch 150/400\n",
            "2096/2096 [==============================] - 13s 6ms/step - loss: 7.3477e-04\n",
            "Epoch 151/400\n",
            "2096/2096 [==============================] - 13s 6ms/step - loss: 7.9236e-04\n",
            "Epoch 152/400\n",
            "2096/2096 [==============================] - 13s 6ms/step - loss: 8.5404e-04\n",
            "Epoch 153/400\n",
            "2096/2096 [==============================] - 13s 6ms/step - loss: 7.6094e-04\n",
            "Epoch 154/400\n",
            "2096/2096 [==============================] - 13s 6ms/step - loss: 7.8725e-04\n",
            "Epoch 155/400\n",
            "2096/2096 [==============================] - 13s 6ms/step - loss: 8.0032e-04\n",
            "Epoch 156/400\n",
            "2096/2096 [==============================] - 13s 6ms/step - loss: 7.8656e-04\n",
            "Epoch 157/400\n",
            "2096/2096 [==============================] - 13s 6ms/step - loss: 8.5681e-04\n",
            "Epoch 158/400\n",
            "2096/2096 [==============================] - 13s 6ms/step - loss: 8.4746e-04\n",
            "Epoch 159/400\n",
            "2096/2096 [==============================] - 13s 6ms/step - loss: 8.1439e-04\n",
            "Epoch 160/400\n",
            "2096/2096 [==============================] - 13s 6ms/step - loss: 8.0396e-04\n",
            "Epoch 161/400\n",
            "2096/2096 [==============================] - 13s 6ms/step - loss: 7.6405e-04\n",
            "Epoch 162/400\n",
            "2096/2096 [==============================] - 13s 6ms/step - loss: 7.0866e-04\n",
            "Epoch 163/400\n",
            "2096/2096 [==============================] - 13s 6ms/step - loss: 7.4946e-04\n",
            "Epoch 164/400\n",
            "2096/2096 [==============================] - 13s 6ms/step - loss: 7.6156e-04\n",
            "Epoch 165/400\n",
            "2096/2096 [==============================] - 13s 6ms/step - loss: 7.2569e-04\n",
            "Epoch 166/400\n",
            "2096/2096 [==============================] - 13s 6ms/step - loss: 8.0444e-04\n",
            "Epoch 167/400\n",
            "2096/2096 [==============================] - 13s 6ms/step - loss: 8.0151e-04\n",
            "Epoch 168/400\n",
            "2096/2096 [==============================] - 13s 6ms/step - loss: 8.0853e-04\n",
            "Epoch 169/400\n",
            "2096/2096 [==============================] - 13s 6ms/step - loss: 7.6455e-04\n",
            "Epoch 170/400\n",
            "2096/2096 [==============================] - 13s 6ms/step - loss: 9.1137e-04\n",
            "Epoch 171/400\n",
            "2096/2096 [==============================] - 13s 6ms/step - loss: 7.5602e-04\n",
            "Epoch 172/400\n",
            "2096/2096 [==============================] - 13s 6ms/step - loss: 7.8327e-04\n",
            "Epoch 173/400\n",
            "2096/2096 [==============================] - 13s 6ms/step - loss: 7.4766e-04\n",
            "Epoch 174/400\n",
            "2096/2096 [==============================] - 13s 6ms/step - loss: 7.1756e-04\n",
            "Epoch 175/400\n",
            "2096/2096 [==============================] - 13s 6ms/step - loss: 7.1356e-04\n",
            "Epoch 176/400\n",
            "2096/2096 [==============================] - 13s 6ms/step - loss: 6.8908e-04\n",
            "Epoch 177/400\n",
            "2096/2096 [==============================] - 13s 6ms/step - loss: 7.1362e-04\n",
            "Epoch 178/400\n",
            "2096/2096 [==============================] - 13s 6ms/step - loss: 7.3144e-04\n",
            "Epoch 179/400\n",
            "2096/2096 [==============================] - 13s 6ms/step - loss: 8.3796e-04\n",
            "Epoch 180/400\n",
            "2096/2096 [==============================] - 13s 6ms/step - loss: 7.7855e-04\n",
            "Epoch 181/400\n",
            "2096/2096 [==============================] - 13s 6ms/step - loss: 7.1627e-04\n",
            "Epoch 182/400\n",
            "2096/2096 [==============================] - 13s 6ms/step - loss: 8.0838e-04\n",
            "Epoch 183/400\n",
            "2096/2096 [==============================] - 13s 6ms/step - loss: 8.5534e-04\n",
            "Epoch 184/400\n",
            "2096/2096 [==============================] - 13s 6ms/step - loss: 8.4962e-04\n",
            "Epoch 185/400\n",
            "2096/2096 [==============================] - 13s 6ms/step - loss: 6.5155e-04\n",
            "Epoch 186/400\n",
            "2096/2096 [==============================] - 13s 6ms/step - loss: 8.1794e-04\n",
            "Epoch 187/400\n",
            "2096/2096 [==============================] - 13s 6ms/step - loss: 7.0701e-04\n",
            "Epoch 188/400\n",
            "2096/2096 [==============================] - 13s 6ms/step - loss: 7.3724e-04\n",
            "Epoch 189/400\n",
            "2096/2096 [==============================] - 13s 6ms/step - loss: 7.2581e-04\n",
            "Epoch 190/400\n",
            "2096/2096 [==============================] - 13s 6ms/step - loss: 7.0362e-04\n",
            "Epoch 191/400\n",
            "2096/2096 [==============================] - 13s 6ms/step - loss: 7.6592e-04\n",
            "Epoch 192/400\n",
            "2096/2096 [==============================] - 13s 6ms/step - loss: 8.3316e-04\n",
            "Epoch 193/400\n",
            "2096/2096 [==============================] - 13s 6ms/step - loss: 6.7076e-04\n",
            "Epoch 194/400\n",
            "2096/2096 [==============================] - 13s 6ms/step - loss: 7.5385e-04\n",
            "Epoch 195/400\n",
            "2096/2096 [==============================] - 13s 6ms/step - loss: 7.6732e-04\n",
            "Epoch 196/400\n",
            "2096/2096 [==============================] - 13s 6ms/step - loss: 7.3818e-04\n",
            "Epoch 197/400\n",
            "2096/2096 [==============================] - 13s 6ms/step - loss: 7.3530e-04\n",
            "Epoch 198/400\n",
            "2096/2096 [==============================] - 13s 6ms/step - loss: 8.0016e-04\n",
            "Epoch 199/400\n",
            "2096/2096 [==============================] - 13s 6ms/step - loss: 7.4898e-04\n",
            "Epoch 200/400\n",
            "2096/2096 [==============================] - 13s 6ms/step - loss: 6.8839e-04\n",
            "Epoch 201/400\n",
            "2096/2096 [==============================] - 12s 6ms/step - loss: 7.1342e-04\n",
            "Epoch 202/400\n",
            "2096/2096 [==============================] - 13s 6ms/step - loss: 6.7965e-04\n",
            "Epoch 203/400\n",
            "2096/2096 [==============================] - 13s 6ms/step - loss: 6.3650e-04\n",
            "Epoch 204/400\n",
            "2096/2096 [==============================] - 13s 6ms/step - loss: 7.7267e-04\n",
            "Epoch 205/400\n",
            "2096/2096 [==============================] - 13s 6ms/step - loss: 7.0415e-04\n",
            "Epoch 206/400\n",
            "2096/2096 [==============================] - 13s 6ms/step - loss: 7.8163e-04\n",
            "Epoch 207/400\n",
            "2096/2096 [==============================] - 13s 6ms/step - loss: 7.8703e-04\n",
            "Epoch 208/400\n",
            "2096/2096 [==============================] - 13s 6ms/step - loss: 6.7660e-04\n",
            "Epoch 209/400\n",
            "2096/2096 [==============================] - 13s 6ms/step - loss: 6.7389e-04\n",
            "Epoch 210/400\n",
            "2096/2096 [==============================] - 13s 6ms/step - loss: 6.5398e-04\n",
            "Epoch 211/400\n",
            "2096/2096 [==============================] - 13s 6ms/step - loss: 7.6803e-04\n",
            "Epoch 212/400\n",
            "2096/2096 [==============================] - 13s 6ms/step - loss: 6.9790e-04\n",
            "Epoch 213/400\n",
            "2096/2096 [==============================] - 13s 6ms/step - loss: 7.1113e-04\n",
            "Epoch 214/400\n",
            "2096/2096 [==============================] - 13s 6ms/step - loss: 6.9187e-04\n",
            "Epoch 215/400\n",
            "2096/2096 [==============================] - 13s 6ms/step - loss: 6.8543e-04\n",
            "Epoch 216/400\n",
            "2096/2096 [==============================] - 13s 6ms/step - loss: 6.9748e-04\n",
            "Epoch 217/400\n",
            "2096/2096 [==============================] - 13s 6ms/step - loss: 7.2541e-04\n",
            "Epoch 218/400\n",
            "2096/2096 [==============================] - 13s 6ms/step - loss: 7.1711e-04\n",
            "Epoch 219/400\n",
            "2096/2096 [==============================] - 13s 6ms/step - loss: 6.8062e-04\n",
            "Epoch 220/400\n",
            "2096/2096 [==============================] - 13s 6ms/step - loss: 7.4169e-04\n",
            "Epoch 221/400\n",
            "2096/2096 [==============================] - 13s 6ms/step - loss: 7.3623e-04\n",
            "Epoch 222/400\n",
            "2096/2096 [==============================] - 13s 6ms/step - loss: 6.7867e-04\n",
            "Epoch 223/400\n",
            "2096/2096 [==============================] - 13s 6ms/step - loss: 7.0816e-04\n",
            "Epoch 224/400\n",
            "2096/2096 [==============================] - 12s 6ms/step - loss: 6.3569e-04\n",
            "Epoch 225/400\n",
            "2096/2096 [==============================] - 13s 6ms/step - loss: 6.7535e-04\n",
            "Epoch 226/400\n",
            "2096/2096 [==============================] - 13s 6ms/step - loss: 6.8265e-04\n",
            "Epoch 227/400\n",
            "2096/2096 [==============================] - 13s 6ms/step - loss: 7.0029e-04\n",
            "Epoch 228/400\n",
            "2096/2096 [==============================] - 13s 6ms/step - loss: 6.7468e-04\n",
            "Epoch 229/400\n",
            "2096/2096 [==============================] - 13s 6ms/step - loss: 6.5210e-04\n",
            "Epoch 230/400\n",
            "2096/2096 [==============================] - 12s 6ms/step - loss: 6.9646e-04\n",
            "Epoch 231/400\n",
            "2096/2096 [==============================] - 13s 6ms/step - loss: 7.6473e-04\n",
            "Epoch 232/400\n",
            "2096/2096 [==============================] - 13s 6ms/step - loss: 7.1728e-04\n",
            "Epoch 233/400\n",
            "2096/2096 [==============================] - 13s 6ms/step - loss: 7.1208e-04\n",
            "Epoch 234/400\n",
            "2096/2096 [==============================] - 13s 6ms/step - loss: 6.8235e-04\n",
            "Epoch 235/400\n",
            "2096/2096 [==============================] - 13s 6ms/step - loss: 7.1256e-04\n",
            "Epoch 236/400\n",
            "2096/2096 [==============================] - 13s 6ms/step - loss: 6.9755e-04\n",
            "Epoch 237/400\n",
            "2096/2096 [==============================] - 13s 6ms/step - loss: 6.5678e-04\n",
            "Epoch 238/400\n",
            "2096/2096 [==============================] - 13s 6ms/step - loss: 6.5352e-04\n",
            "Epoch 239/400\n",
            "2096/2096 [==============================] - 13s 6ms/step - loss: 6.9683e-04\n",
            "Epoch 240/400\n",
            "2096/2096 [==============================] - 13s 6ms/step - loss: 6.9976e-04\n",
            "Epoch 241/400\n",
            "2096/2096 [==============================] - 13s 6ms/step - loss: 6.8335e-04\n",
            "Epoch 242/400\n",
            "2096/2096 [==============================] - 12s 6ms/step - loss: 6.2588e-04\n",
            "Epoch 243/400\n",
            "2096/2096 [==============================] - 12s 6ms/step - loss: 7.3808e-04\n",
            "Epoch 244/400\n",
            "2096/2096 [==============================] - 12s 6ms/step - loss: 7.1977e-04\n",
            "Epoch 245/400\n",
            "2096/2096 [==============================] - 13s 6ms/step - loss: 6.1684e-04\n",
            "Epoch 246/400\n",
            "2096/2096 [==============================] - 13s 6ms/step - loss: 6.4509e-04\n",
            "Epoch 247/400\n",
            "2096/2096 [==============================] - 13s 6ms/step - loss: 7.3392e-04\n",
            "Epoch 248/400\n",
            "2096/2096 [==============================] - 13s 6ms/step - loss: 7.4060e-04\n",
            "Epoch 249/400\n",
            "2096/2096 [==============================] - 12s 6ms/step - loss: 7.0705e-04\n",
            "Epoch 250/400\n",
            "2096/2096 [==============================] - 13s 6ms/step - loss: 7.9062e-04\n",
            "Epoch 251/400\n",
            "2096/2096 [==============================] - 13s 6ms/step - loss: 6.4338e-04\n",
            "Epoch 252/400\n",
            "2096/2096 [==============================] - 13s 6ms/step - loss: 6.6903e-04\n",
            "Epoch 253/400\n",
            "2096/2096 [==============================] - 13s 6ms/step - loss: 6.7375e-04\n",
            "Epoch 254/400\n",
            "2096/2096 [==============================] - 13s 6ms/step - loss: 7.4577e-04\n",
            "Epoch 255/400\n",
            "2096/2096 [==============================] - 12s 6ms/step - loss: 6.8426e-04\n",
            "Epoch 256/400\n",
            "2096/2096 [==============================] - 13s 6ms/step - loss: 6.3221e-04\n",
            "Epoch 257/400\n",
            "2096/2096 [==============================] - 12s 6ms/step - loss: 7.0912e-04\n",
            "Epoch 258/400\n",
            "2096/2096 [==============================] - 13s 6ms/step - loss: 6.2383e-04\n",
            "Epoch 259/400\n",
            "2096/2096 [==============================] - 13s 6ms/step - loss: 6.6681e-04\n",
            "Epoch 260/400\n",
            "2096/2096 [==============================] - 13s 6ms/step - loss: 6.9402e-04\n",
            "Epoch 261/400\n",
            "2096/2096 [==============================] - 13s 6ms/step - loss: 6.9551e-04\n",
            "Epoch 262/400\n",
            "2096/2096 [==============================] - 13s 6ms/step - loss: 6.6860e-04\n",
            "Epoch 263/400\n",
            "2096/2096 [==============================] - 12s 6ms/step - loss: 6.2738e-04\n",
            "Epoch 264/400\n",
            "2096/2096 [==============================] - 12s 6ms/step - loss: 7.1813e-04\n",
            "Epoch 265/400\n",
            "2096/2096 [==============================] - 12s 6ms/step - loss: 6.8358e-04\n",
            "Epoch 266/400\n",
            "2096/2096 [==============================] - 12s 6ms/step - loss: 8.3363e-04\n",
            "Epoch 267/400\n",
            "2096/2096 [==============================] - 12s 6ms/step - loss: 6.7883e-04\n",
            "Epoch 268/400\n",
            "2096/2096 [==============================] - 13s 6ms/step - loss: 6.6830e-04\n",
            "Epoch 269/400\n",
            "2096/2096 [==============================] - 13s 6ms/step - loss: 7.3995e-04\n",
            "Epoch 270/400\n",
            "2096/2096 [==============================] - 13s 6ms/step - loss: 6.4934e-04\n",
            "Epoch 271/400\n",
            "2096/2096 [==============================] - 13s 6ms/step - loss: 6.4672e-04\n",
            "Epoch 272/400\n",
            "2096/2096 [==============================] - 13s 6ms/step - loss: 6.3218e-04\n",
            "Epoch 273/400\n",
            "2096/2096 [==============================] - 12s 6ms/step - loss: 6.8273e-04\n",
            "Epoch 274/400\n",
            "2096/2096 [==============================] - 13s 6ms/step - loss: 6.5164e-04\n",
            "Epoch 275/400\n",
            "2096/2096 [==============================] - 13s 6ms/step - loss: 6.4342e-04\n",
            "Epoch 276/400\n",
            "2096/2096 [==============================] - 13s 6ms/step - loss: 6.4676e-04\n",
            "Epoch 277/400\n",
            "2096/2096 [==============================] - 13s 6ms/step - loss: 6.8232e-04\n",
            "Epoch 278/400\n",
            "2096/2096 [==============================] - 13s 6ms/step - loss: 6.4114e-04\n",
            "Epoch 279/400\n",
            "2096/2096 [==============================] - 13s 6ms/step - loss: 7.3234e-04\n",
            "Epoch 280/400\n",
            "2096/2096 [==============================] - 13s 6ms/step - loss: 6.3915e-04\n",
            "Epoch 281/400\n",
            "2096/2096 [==============================] - 12s 6ms/step - loss: 6.6862e-04\n",
            "Epoch 282/400\n",
            "2096/2096 [==============================] - 12s 6ms/step - loss: 6.6988e-04\n",
            "Epoch 283/400\n",
            "2096/2096 [==============================] - 13s 6ms/step - loss: 6.6488e-04\n",
            "Epoch 284/400\n",
            "2096/2096 [==============================] - 13s 6ms/step - loss: 7.0711e-04\n",
            "Epoch 285/400\n",
            "2096/2096 [==============================] - 13s 6ms/step - loss: 6.7506e-04\n",
            "Epoch 286/400\n",
            "2096/2096 [==============================] - 13s 6ms/step - loss: 7.9550e-04\n",
            "Epoch 287/400\n",
            "2096/2096 [==============================] - 12s 6ms/step - loss: 6.7337e-04\n",
            "Epoch 288/400\n",
            "2096/2096 [==============================] - 13s 6ms/step - loss: 6.7016e-04\n",
            "Epoch 289/400\n",
            "2096/2096 [==============================] - 13s 6ms/step - loss: 6.0681e-04\n",
            "Epoch 290/400\n",
            "2096/2096 [==============================] - 13s 6ms/step - loss: 5.9742e-04\n",
            "Epoch 291/400\n",
            "2096/2096 [==============================] - 13s 6ms/step - loss: 6.7638e-04\n",
            "Epoch 292/400\n",
            "2096/2096 [==============================] - 13s 6ms/step - loss: 6.1196e-04\n",
            "Epoch 293/400\n",
            "2096/2096 [==============================] - 13s 6ms/step - loss: 6.1298e-04\n",
            "Epoch 294/400\n",
            "2096/2096 [==============================] - 13s 6ms/step - loss: 6.4743e-04\n",
            "Epoch 295/400\n",
            "2096/2096 [==============================] - 13s 6ms/step - loss: 6.3747e-04\n",
            "Epoch 296/400\n",
            "2096/2096 [==============================] - 13s 6ms/step - loss: 6.7050e-04\n",
            "Epoch 297/400\n",
            "2096/2096 [==============================] - 13s 6ms/step - loss: 6.5772e-04\n",
            "Epoch 298/400\n",
            "2096/2096 [==============================] - 12s 6ms/step - loss: 6.5838e-04\n",
            "Epoch 299/400\n",
            "2096/2096 [==============================] - 13s 6ms/step - loss: 6.5081e-04\n",
            "Epoch 300/400\n",
            "2096/2096 [==============================] - 12s 6ms/step - loss: 6.4435e-04\n",
            "Epoch 301/400\n",
            "2096/2096 [==============================] - 12s 6ms/step - loss: 6.3183e-04\n",
            "Epoch 302/400\n",
            "2096/2096 [==============================] - 13s 6ms/step - loss: 6.8143e-04\n",
            "Epoch 303/400\n",
            "2096/2096 [==============================] - 13s 6ms/step - loss: 6.3869e-04\n",
            "Epoch 304/400\n",
            "2096/2096 [==============================] - 12s 6ms/step - loss: 6.1297e-04\n",
            "Epoch 305/400\n",
            "2096/2096 [==============================] - 12s 6ms/step - loss: 6.2815e-04\n",
            "Epoch 306/400\n",
            "2096/2096 [==============================] - 12s 6ms/step - loss: 5.8838e-04\n",
            "Epoch 307/400\n",
            "2096/2096 [==============================] - 12s 6ms/step - loss: 6.3253e-04\n",
            "Epoch 308/400\n",
            "2096/2096 [==============================] - 13s 6ms/step - loss: 6.1159e-04\n",
            "Epoch 309/400\n",
            "2096/2096 [==============================] - 12s 6ms/step - loss: 6.6351e-04\n",
            "Epoch 310/400\n",
            "2096/2096 [==============================] - 12s 6ms/step - loss: 6.2561e-04\n",
            "Epoch 311/400\n",
            "2096/2096 [==============================] - 12s 6ms/step - loss: 5.9765e-04\n",
            "Epoch 312/400\n",
            "2096/2096 [==============================] - 13s 6ms/step - loss: 6.7115e-04\n",
            "Epoch 313/400\n",
            "2096/2096 [==============================] - 12s 6ms/step - loss: 6.3019e-04\n",
            "Epoch 314/400\n",
            "2096/2096 [==============================] - 12s 6ms/step - loss: 6.4409e-04\n",
            "Epoch 315/400\n",
            "2096/2096 [==============================] - 12s 6ms/step - loss: 6.1580e-04\n",
            "Epoch 316/400\n",
            "2096/2096 [==============================] - 12s 6ms/step - loss: 6.2348e-04\n",
            "Epoch 317/400\n",
            "2096/2096 [==============================] - 12s 6ms/step - loss: 6.5886e-04\n",
            "Epoch 318/400\n",
            "2096/2096 [==============================] - 12s 6ms/step - loss: 6.3489e-04\n",
            "Epoch 319/400\n",
            "2096/2096 [==============================] - 12s 6ms/step - loss: 6.2189e-04\n",
            "Epoch 320/400\n",
            "2096/2096 [==============================] - 12s 6ms/step - loss: 6.5520e-04\n",
            "Epoch 321/400\n",
            "2096/2096 [==============================] - 13s 6ms/step - loss: 6.6701e-04\n",
            "Epoch 322/400\n",
            "2096/2096 [==============================] - 13s 6ms/step - loss: 6.2549e-04\n",
            "Epoch 323/400\n",
            "2096/2096 [==============================] - 13s 6ms/step - loss: 6.2326e-04\n",
            "Epoch 324/400\n",
            "2096/2096 [==============================] - 12s 6ms/step - loss: 6.6649e-04\n",
            "Epoch 325/400\n",
            "2096/2096 [==============================] - 12s 6ms/step - loss: 6.3759e-04\n",
            "Epoch 326/400\n",
            "2096/2096 [==============================] - 12s 6ms/step - loss: 6.4088e-04\n",
            "Epoch 327/400\n",
            "2096/2096 [==============================] - 13s 6ms/step - loss: 6.1761e-04\n",
            "Epoch 328/400\n",
            "2096/2096 [==============================] - 12s 6ms/step - loss: 6.6735e-04\n",
            "Epoch 329/400\n",
            "2096/2096 [==============================] - 12s 6ms/step - loss: 6.1523e-04\n",
            "Epoch 330/400\n",
            "2096/2096 [==============================] - 12s 6ms/step - loss: 6.3104e-04\n",
            "Epoch 331/400\n",
            "2096/2096 [==============================] - 13s 6ms/step - loss: 6.4907e-04\n",
            "Epoch 332/400\n",
            "2096/2096 [==============================] - 13s 6ms/step - loss: 5.9230e-04\n",
            "Epoch 333/400\n",
            "2096/2096 [==============================] - 12s 6ms/step - loss: 5.9368e-04\n",
            "Epoch 334/400\n",
            "2096/2096 [==============================] - 13s 6ms/step - loss: 6.3097e-04\n",
            "Epoch 335/400\n",
            "2096/2096 [==============================] - 12s 6ms/step - loss: 6.1765e-04\n",
            "Epoch 336/400\n",
            "2096/2096 [==============================] - 12s 6ms/step - loss: 6.1066e-04\n",
            "Epoch 337/400\n",
            "2096/2096 [==============================] - 12s 6ms/step - loss: 6.1658e-04\n",
            "Epoch 338/400\n",
            "2096/2096 [==============================] - 12s 6ms/step - loss: 6.1320e-04\n",
            "Epoch 339/400\n",
            "2096/2096 [==============================] - 12s 6ms/step - loss: 6.2453e-04\n",
            "Epoch 340/400\n",
            "2096/2096 [==============================] - 12s 6ms/step - loss: 6.1180e-04\n",
            "Epoch 341/400\n",
            "2096/2096 [==============================] - 12s 6ms/step - loss: 6.7226e-04\n",
            "Epoch 342/400\n",
            "2096/2096 [==============================] - 13s 6ms/step - loss: 5.4695e-04\n",
            "Epoch 343/400\n",
            "2096/2096 [==============================] - 13s 6ms/step - loss: 5.9135e-04\n",
            "Epoch 344/400\n",
            "2096/2096 [==============================] - 13s 6ms/step - loss: 6.0649e-04\n",
            "Epoch 345/400\n",
            "2096/2096 [==============================] - 13s 6ms/step - loss: 6.0053e-04\n",
            "Epoch 346/400\n",
            "2096/2096 [==============================] - 13s 6ms/step - loss: 6.4048e-04\n",
            "Epoch 347/400\n",
            "2096/2096 [==============================] - 13s 6ms/step - loss: 6.0139e-04\n",
            "Epoch 348/400\n",
            "2096/2096 [==============================] - 13s 6ms/step - loss: 7.1780e-04\n",
            "Epoch 349/400\n",
            "2096/2096 [==============================] - 12s 6ms/step - loss: 5.8953e-04\n",
            "Epoch 350/400\n",
            "2096/2096 [==============================] - 12s 6ms/step - loss: 5.4927e-04\n",
            "Epoch 351/400\n",
            "2096/2096 [==============================] - 12s 6ms/step - loss: 6.2674e-04\n",
            "Epoch 352/400\n",
            "2096/2096 [==============================] - 13s 6ms/step - loss: 6.3832e-04\n",
            "Epoch 353/400\n",
            "2096/2096 [==============================] - 13s 6ms/step - loss: 5.7579e-04\n",
            "Epoch 354/400\n",
            "2096/2096 [==============================] - 12s 6ms/step - loss: 6.4400e-04\n",
            "Epoch 355/400\n",
            "2096/2096 [==============================] - 13s 6ms/step - loss: 6.1339e-04\n",
            "Epoch 356/400\n",
            "2096/2096 [==============================] - 13s 6ms/step - loss: 6.1223e-04\n",
            "Epoch 357/400\n",
            "2096/2096 [==============================] - 13s 6ms/step - loss: 5.3136e-04\n",
            "Epoch 358/400\n",
            "2096/2096 [==============================] - 13s 6ms/step - loss: 6.8906e-04\n",
            "Epoch 359/400\n",
            "2096/2096 [==============================] - 13s 6ms/step - loss: 5.9425e-04\n",
            "Epoch 360/400\n",
            "2096/2096 [==============================] - 13s 6ms/step - loss: 6.8132e-04\n",
            "Epoch 361/400\n",
            "2096/2096 [==============================] - 13s 6ms/step - loss: 6.2365e-04\n",
            "Epoch 362/400\n",
            "2096/2096 [==============================] - 13s 6ms/step - loss: 6.0721e-04\n",
            "Epoch 363/400\n",
            "2096/2096 [==============================] - 13s 6ms/step - loss: 6.1802e-04\n",
            "Epoch 364/400\n",
            "2096/2096 [==============================] - 13s 6ms/step - loss: 6.0854e-04\n",
            "Epoch 365/400\n",
            "2096/2096 [==============================] - 13s 6ms/step - loss: 6.8873e-04\n",
            "Epoch 366/400\n",
            "2096/2096 [==============================] - 13s 6ms/step - loss: 6.0449e-04\n",
            "Epoch 367/400\n",
            "2096/2096 [==============================] - 13s 6ms/step - loss: 5.6934e-04\n",
            "Epoch 368/400\n",
            "2096/2096 [==============================] - 13s 6ms/step - loss: 6.3826e-04\n",
            "Epoch 369/400\n",
            "2096/2096 [==============================] - 13s 6ms/step - loss: 6.2277e-04\n",
            "Epoch 370/400\n",
            "2096/2096 [==============================] - 13s 6ms/step - loss: 6.8882e-04\n",
            "Epoch 371/400\n",
            "2096/2096 [==============================] - 13s 6ms/step - loss: 6.4242e-04\n",
            "Epoch 372/400\n",
            "2096/2096 [==============================] - 13s 6ms/step - loss: 6.2841e-04\n",
            "Epoch 373/400\n",
            "2096/2096 [==============================] - 13s 6ms/step - loss: 6.2958e-04\n",
            "Epoch 374/400\n",
            "2096/2096 [==============================] - 13s 6ms/step - loss: 5.7156e-04\n",
            "Epoch 375/400\n",
            "2096/2096 [==============================] - 13s 6ms/step - loss: 6.3213e-04\n",
            "Epoch 376/400\n",
            "2096/2096 [==============================] - 13s 6ms/step - loss: 6.3886e-04\n",
            "Epoch 377/400\n",
            "2096/2096 [==============================] - 13s 6ms/step - loss: 6.1683e-04\n",
            "Epoch 378/400\n",
            "2096/2096 [==============================] - 13s 6ms/step - loss: 6.2768e-04\n",
            "Epoch 379/400\n",
            "2096/2096 [==============================] - 13s 6ms/step - loss: 5.7704e-04\n",
            "Epoch 380/400\n",
            "2096/2096 [==============================] - 13s 6ms/step - loss: 6.0264e-04\n",
            "Epoch 381/400\n",
            "2096/2096 [==============================] - 13s 6ms/step - loss: 6.3391e-04\n",
            "Epoch 382/400\n",
            "2096/2096 [==============================] - 13s 6ms/step - loss: 6.5882e-04\n",
            "Epoch 383/400\n",
            "2096/2096 [==============================] - 13s 6ms/step - loss: 5.8324e-04\n",
            "Epoch 384/400\n",
            "2096/2096 [==============================] - 13s 6ms/step - loss: 6.5127e-04\n",
            "Epoch 385/400\n",
            "2096/2096 [==============================] - 13s 6ms/step - loss: 5.8370e-04\n",
            "Epoch 386/400\n",
            "2096/2096 [==============================] - 13s 6ms/step - loss: 6.0512e-04\n",
            "Epoch 387/400\n",
            "2096/2096 [==============================] - 13s 6ms/step - loss: 5.7231e-04\n",
            "Epoch 388/400\n",
            "2096/2096 [==============================] - 13s 6ms/step - loss: 5.6402e-04\n",
            "Epoch 389/400\n",
            "2096/2096 [==============================] - 13s 6ms/step - loss: 5.6214e-04\n",
            "Epoch 390/400\n",
            "2096/2096 [==============================] - 13s 6ms/step - loss: 5.7224e-04\n",
            "Epoch 391/400\n",
            "2096/2096 [==============================] - 13s 6ms/step - loss: 5.9057e-04\n",
            "Epoch 392/400\n",
            "2096/2096 [==============================] - 12s 6ms/step - loss: 5.5403e-04\n",
            "Epoch 393/400\n",
            "2096/2096 [==============================] - 13s 6ms/step - loss: 6.7490e-04\n",
            "Epoch 394/400\n",
            "2096/2096 [==============================] - 12s 6ms/step - loss: 5.5062e-04\n",
            "Epoch 395/400\n",
            "2096/2096 [==============================] - 13s 6ms/step - loss: 6.0407e-04\n",
            "Epoch 396/400\n",
            "2096/2096 [==============================] - 12s 6ms/step - loss: 5.7599e-04\n",
            "Epoch 397/400\n",
            "2096/2096 [==============================] - 12s 6ms/step - loss: 6.6132e-04\n",
            "Epoch 398/400\n",
            "2096/2096 [==============================] - 12s 6ms/step - loss: 6.8630e-04\n",
            "Epoch 399/400\n",
            "2096/2096 [==============================] - 12s 6ms/step - loss: 6.1969e-04\n",
            "Epoch 400/400\n",
            "2096/2096 [==============================] - 12s 6ms/step - loss: 6.3677e-04\n"
          ],
          "name": "stdout"
        }
      ]
    },
    {
      "cell_type": "code",
      "metadata": {
        "id": "NEa326sVA7iD",
        "colab_type": "code",
        "colab": {
          "base_uri": "https://localhost:8080/",
          "height": 295
        },
        "outputId": "01f0518d-b1bb-4b3f-9a29-9750cf7dd7fd"
      },
      "source": [
        "plt.plot(history.history['loss'])\n",
        "plt.plot(history.history['loss'])\n",
        "plt.title('model loss')\n",
        "plt.ylabel('loss')\n",
        "plt.xlabel('epoch')\n",
        "plt.show()"
      ],
      "execution_count": 44,
      "outputs": [
        {
          "output_type": "display_data",
          "data": {
            "image/png": "[encoded data removed]",
            "text/plain": [
              "<Figure size 432x288 with 1 Axes>"
            ]
          },
          "metadata": {
            "tags": []
          }
        }
      ]
    },
    {
      "cell_type": "code",
      "metadata": {
        "id": "lkPEasssmoaM",
        "colab_type": "code",
        "colab": {}
      },
      "source": [
        "lol = df['Open']\n",
        "inputs = lol[len(lol) - len(df_test) - 70:].values\n",
        "inputs = inputs.reshape(-1,1)\n",
        "inputs = sc.transform(inputs)\n"
      ],
      "execution_count": 0,
      "outputs": []
    },
    {
      "cell_type": "code",
      "metadata": {
        "id": "gLW45HuA6Bz4",
        "colab_type": "code",
        "colab": {
          "base_uri": "https://localhost:8080/",
          "height": 34
        },
        "outputId": "f33b0654-d61e-4b62-8c01-8159830c5631"
      },
      "source": [
        "inputs.shape"
      ],
      "execution_count": 16,
      "outputs": [
        {
          "output_type": "execute_result",
          "data": {
            "text/plain": [
              "(170, 1)"
            ]
          },
          "metadata": {
            "tags": []
          },
          "execution_count": 16
        }
      ]
    },
    {
      "cell_type": "code",
      "metadata": {
        "id": "770AXvBy6B3V",
        "colab_type": "code",
        "colab": {}
      },
      "source": [
        "X_test = []\n",
        "for i in range(70, 170):\n",
        "    X_test.append(inputs[i-70:i, 0])\n",
        "X_test = np.array(X_test)\n",
        "X_test = np.reshape(X_test, (X_test.shape[0], X_test.shape[1], 1))\n",
        "predicted_stock_price = regressor.predict(X_test)\n",
        "predicted_stock_price = sc.inverse_transform(predicted_stock_price)"
      ],
      "execution_count": 0,
      "outputs": []
    },
    {
      "cell_type": "code",
      "metadata": {
        "id": "FqIyGGlBCEdU",
        "colab_type": "code",
        "colab": {
          "base_uri": "https://localhost:8080/",
          "height": 34
        },
        "outputId": "3bb29436-f2ac-4a37-f641-5fb423c7df83"
      },
      "source": [
        "X_test.shape"
      ],
      "execution_count": 50,
      "outputs": [
        {
          "output_type": "execute_result",
          "data": {
            "text/plain": [
              "(100, 70, 1)"
            ]
          },
          "metadata": {
            "tags": []
          },
          "execution_count": 50
        }
      ]
    },
    {
      "cell_type": "code",
      "metadata": {
        "id": "VTLIZdMX6WEL",
        "colab_type": "code",
        "colab": {
          "base_uri": "https://localhost:8080/",
          "height": 513
        },
        "outputId": "0bfa94bb-247b-4974-ed82-ef14b38e5f01"
      },
      "source": [
        "# Visualising the results\n",
        "plt.figure(figsize = (10,8))\n",
        "plt.plot(df_test, color = 'red', label = 'Real S&P Stock Price')\n",
        "plt.plot(predicted_stock_price, color = 'blue', label = 'Predicted S&P Stock Price')\n",
        "plt.title('S&P Stock Price Prediction')\n",
        "plt.xlabel('Time')\n",
        "plt.ylabel('S&P Stock Price')\n",
        "plt.legend(loc = 'best')\n",
        "plt.show()"
      ],
      "execution_count": 46,
      "outputs": [
        {
          "output_type": "display_data",
          "data": {
            "image/png": "[encoded data removed]",
            "text/plain": [
              "<Figure size 720x576 with 1 Axes>"
            ]
          },
          "metadata": {
            "tags": []
          }
        }
      ]
    },
    {
      "cell_type": "code",
      "metadata": {
        "id": "5vsJgw5r7xvf",
        "colab_type": "code",
        "colab": {
          "base_uri": "https://localhost:8080/",
          "height": 204
        },
        "outputId": "85bf5ff5-b464-4ea2-c761-97637a369c64"
      },
      "source": [
        "yo= pd.concat([pd.DataFrame(df_test), pd.DataFrame(predicted_stock_price)], axis = 1, names = ['real', 'pred'])\n",
        "yo.columns = ['true', 'pred'] \n",
        "yo.head()"
      ],
      "execution_count": 20,
      "outputs": [
        {
          "output_type": "execute_result",
          "data": {
            "text/html": [
              "<div>\n",
              "<style scoped>\n",
              "    .dataframe tbody tr th:only-of-type {\n",
              "        vertical-align: middle;\n",
              "    }\n",
              "\n",
              "    .dataframe tbody tr th {\n",
              "        vertical-align: top;\n",
              "    }\n",
              "\n",
              "    .dataframe thead th {\n",
              "        text-align: right;\n",
              "    }\n",
              "</style>\n",
              "<table border=\"1\" class=\"dataframe\">\n",
              "  <thead>\n",
              "    <tr style=\"text-align: right;\">\n",
              "      <th></th>\n",
              "      <th>true</th>\n",
              "      <th>pred</th>\n",
              "    </tr>\n",
              "  </thead>\n",
              "  <tbody>\n",
              "    <tr>\n",
              "      <th>0</th>\n",
              "      <td>2790.250000</td>\n",
              "      <td>2812.748779</td>\n",
              "    </tr>\n",
              "    <tr>\n",
              "      <th>1</th>\n",
              "      <td>2786.939941</td>\n",
              "      <td>2787.096436</td>\n",
              "    </tr>\n",
              "    <tr>\n",
              "      <th>2</th>\n",
              "      <td>2766.149902</td>\n",
              "      <td>2776.893799</td>\n",
              "    </tr>\n",
              "    <tr>\n",
              "      <th>3</th>\n",
              "      <td>2751.530029</td>\n",
              "      <td>2761.094727</td>\n",
              "    </tr>\n",
              "    <tr>\n",
              "      <th>4</th>\n",
              "      <td>2762.639893</td>\n",
              "      <td>2744.816650</td>\n",
              "    </tr>\n",
              "  </tbody>\n",
              "</table>\n",
              "</div>"
            ],
            "text/plain": [
              "          true         pred\n",
              "0  2790.250000  2812.748779\n",
              "1  2786.939941  2787.096436\n",
              "2  2766.149902  2776.893799\n",
              "3  2751.530029  2761.094727\n",
              "4  2762.639893  2744.816650"
            ]
          },
          "metadata": {
            "tags": []
          },
          "execution_count": 20
        }
      ]
    },
    {
      "cell_type": "code",
      "metadata": {
        "id": "QMRdew8p7xy1",
        "colab_type": "code",
        "colab": {
          "base_uri": "https://localhost:8080/",
          "height": 204
        },
        "outputId": "07628b30-4426-41f0-da77-14fa32d6b2f1"
      },
      "source": [
        "yo['resid'] = yo['true'] - yo['pred']\n",
        "yo['|resid|'] = np.abs(yo['resid'])\n",
        "yo.head()"
      ],
      "execution_count": 24,
      "outputs": [
        {
          "output_type": "execute_result",
          "data": {
            "text/html": [
              "<div>\n",
              "<style scoped>\n",
              "    .dataframe tbody tr th:only-of-type {\n",
              "        vertical-align: middle;\n",
              "    }\n",
              "\n",
              "    .dataframe tbody tr th {\n",
              "        vertical-align: top;\n",
              "    }\n",
              "\n",
              "    .dataframe thead th {\n",
              "        text-align: right;\n",
              "    }\n",
              "</style>\n",
              "<table border=\"1\" class=\"dataframe\">\n",
              "  <thead>\n",
              "    <tr style=\"text-align: right;\">\n",
              "      <th></th>\n",
              "      <th>true</th>\n",
              "      <th>pred</th>\n",
              "      <th>resid</th>\n",
              "      <th>|resid|</th>\n",
              "    </tr>\n",
              "  </thead>\n",
              "  <tbody>\n",
              "    <tr>\n",
              "      <th>0</th>\n",
              "      <td>2790.250000</td>\n",
              "      <td>2812.748779</td>\n",
              "      <td>-22.498779</td>\n",
              "      <td>22.498779</td>\n",
              "    </tr>\n",
              "    <tr>\n",
              "      <th>1</th>\n",
              "      <td>2786.939941</td>\n",
              "      <td>2787.096436</td>\n",
              "      <td>-0.156494</td>\n",
              "      <td>0.156494</td>\n",
              "    </tr>\n",
              "    <tr>\n",
              "      <th>2</th>\n",
              "      <td>2766.149902</td>\n",
              "      <td>2776.893799</td>\n",
              "      <td>-10.743896</td>\n",
              "      <td>10.743896</td>\n",
              "    </tr>\n",
              "    <tr>\n",
              "      <th>3</th>\n",
              "      <td>2751.530029</td>\n",
              "      <td>2761.094727</td>\n",
              "      <td>-9.564697</td>\n",
              "      <td>9.564697</td>\n",
              "    </tr>\n",
              "    <tr>\n",
              "      <th>4</th>\n",
              "      <td>2762.639893</td>\n",
              "      <td>2744.816650</td>\n",
              "      <td>17.823242</td>\n",
              "      <td>17.823242</td>\n",
              "    </tr>\n",
              "  </tbody>\n",
              "</table>\n",
              "</div>"
            ],
            "text/plain": [
              "          true         pred      resid    |resid|\n",
              "0  2790.250000  2812.748779 -22.498779  22.498779\n",
              "1  2786.939941  2787.096436  -0.156494   0.156494\n",
              "2  2766.149902  2776.893799 -10.743896  10.743896\n",
              "3  2751.530029  2761.094727  -9.564697   9.564697\n",
              "4  2762.639893  2744.816650  17.823242  17.823242"
            ]
          },
          "metadata": {
            "tags": []
          },
          "execution_count": 24
        }
      ]
    },
    {
      "cell_type": "code",
      "metadata": {
        "id": "XedwbPui6WHm",
        "colab_type": "code",
        "colab": {
          "base_uri": "https://localhost:8080/",
          "height": 51
        },
        "outputId": "0e055929-b54d-4abd-9308-8866c00b854a"
      },
      "source": [
        "print('mean error:', yo['resid'].mean(), '\\n', 'mean abs error:',  yo['|resid|'].mean())"
      ],
      "execution_count": 27,
      "outputs": [
        {
          "output_type": "stream",
          "text": [
            "mean error: 43.85251953125 \n",
            " mean abs error: 47.83748046875\n"
          ],
          "name": "stdout"
        }
      ]
    },
    {
      "cell_type": "code",
      "metadata": {
        "id": "oXEWTTKl90cw",
        "colab_type": "code",
        "colab": {
          "base_uri": "https://localhost:8080/",
          "height": 204
        },
        "outputId": "14e3e725-ff29-4524-dc4a-58826b300136"
      },
      "source": [
        "yo['pred+resid'] = yo['pred']+ yo['resid'].mean()\n",
        "yo['pred+|resid|'] = yo['pred']+ yo['|resid|'].mean()\n",
        "yo.head()"
      ],
      "execution_count": 37,
      "outputs": [
        {
          "output_type": "execute_result",
          "data": {
            "text/html": [
              "<div>\n",
              "<style scoped>\n",
              "    .dataframe tbody tr th:only-of-type {\n",
              "        vertical-align: middle;\n",
              "    }\n",
              "\n",
              "    .dataframe tbody tr th {\n",
              "        vertical-align: top;\n",
              "    }\n",
              "\n",
              "    .dataframe thead th {\n",
              "        text-align: right;\n",
              "    }\n",
              "</style>\n",
              "<table border=\"1\" class=\"dataframe\">\n",
              "  <thead>\n",
              "    <tr style=\"text-align: right;\">\n",
              "      <th></th>\n",
              "      <th>true</th>\n",
              "      <th>pred</th>\n",
              "      <th>resid</th>\n",
              "      <th>|resid|</th>\n",
              "      <th>pred+resid</th>\n",
              "      <th>pred+|resid|</th>\n",
              "    </tr>\n",
              "  </thead>\n",
              "  <tbody>\n",
              "    <tr>\n",
              "      <th>0</th>\n",
              "      <td>2790.250000</td>\n",
              "      <td>2812.748779</td>\n",
              "      <td>-22.498779</td>\n",
              "      <td>22.498779</td>\n",
              "      <td>2856.601318</td>\n",
              "      <td>2860.586182</td>\n",
              "    </tr>\n",
              "    <tr>\n",
              "      <th>1</th>\n",
              "      <td>2786.939941</td>\n",
              "      <td>2787.096436</td>\n",
              "      <td>-0.156494</td>\n",
              "      <td>0.156494</td>\n",
              "      <td>2830.948975</td>\n",
              "      <td>2834.933838</td>\n",
              "    </tr>\n",
              "    <tr>\n",
              "      <th>2</th>\n",
              "      <td>2766.149902</td>\n",
              "      <td>2776.893799</td>\n",
              "      <td>-10.743896</td>\n",
              "      <td>10.743896</td>\n",
              "      <td>2820.746338</td>\n",
              "      <td>2824.731201</td>\n",
              "    </tr>\n",
              "    <tr>\n",
              "      <th>3</th>\n",
              "      <td>2751.530029</td>\n",
              "      <td>2761.094727</td>\n",
              "      <td>-9.564697</td>\n",
              "      <td>9.564697</td>\n",
              "      <td>2804.947266</td>\n",
              "      <td>2808.932129</td>\n",
              "    </tr>\n",
              "    <tr>\n",
              "      <th>4</th>\n",
              "      <td>2762.639893</td>\n",
              "      <td>2744.816650</td>\n",
              "      <td>17.823242</td>\n",
              "      <td>17.823242</td>\n",
              "      <td>2788.669189</td>\n",
              "      <td>2792.654053</td>\n",
              "    </tr>\n",
              "  </tbody>\n",
              "</table>\n",
              "</div>"
            ],
            "text/plain": [
              "          true         pred      resid    |resid|   pred+resid  pred+|resid|\n",
              "0  2790.250000  2812.748779 -22.498779  22.498779  2856.601318   2860.586182\n",
              "1  2786.939941  2787.096436  -0.156494   0.156494  2830.948975   2834.933838\n",
              "2  2766.149902  2776.893799 -10.743896  10.743896  2820.746338   2824.731201\n",
              "3  2751.530029  2761.094727  -9.564697   9.564697  2804.947266   2808.932129\n",
              "4  2762.639893  2744.816650  17.823242  17.823242  2788.669189   2792.654053"
            ]
          },
          "metadata": {
            "tags": []
          },
          "execution_count": 37
        }
      ]
    },
    {
      "cell_type": "code",
      "metadata": {
        "id": "0wUi_Sbp-x4O",
        "colab_type": "code",
        "colab": {
          "base_uri": "https://localhost:8080/",
          "height": 621
        },
        "outputId": "f622a5e8-c150-46ce-a7e0-aa33c2d35266"
      },
      "source": [
        "plt.figure(figsize = (14,10))\n",
        "plt.plot(df_test, color = 'red', label = 'Real S&P Stock Price')\n",
        "plt.plot(predicted_stock_price, color = 'blue', label = 'Just RNN ')\n",
        "plt.plot(yo['pred+resid'], color = 'yellow', label = 'Predicted + resid')\n",
        "plt.plot(yo['pred+|resid|'], color = 'green', label = 'Predicted + abs(resid)')\n",
        "\n",
        "plt.title('S&P Stock Price Prediction')\n",
        "plt.xlabel('Time')\n",
        "plt.ylabel('S&P Stock Price')\n",
        "plt.legend()\n",
        "plt.show()"
      ],
      "execution_count": 43,
      "outputs": [
        {
          "output_type": "display_data",
          "data": {
            "image/png": "[encoded data removed]",
            "text/plain": [
              "<Figure size 1008x720 with 1 Axes>"
            ]
          },
          "metadata": {
            "tags": []
          }
        }
      ]
    },
    {
      "cell_type": "code",
      "metadata": {
        "id": "WRZny4UP-x7n",
        "colab_type": "code",
        "colab": {}
      },
      "source": [
        "a = regressor.predict(X_test[0].reshape(1, 70, 1))"
      ],
      "execution_count": 0,
      "outputs": []
    },
    {
      "cell_type": "code",
      "metadata": {
        "id": "xdCeSHHbCkQg",
        "colab_type": "code",
        "colab": {
          "base_uri": "https://localhost:8080/",
          "height": 34
        },
        "outputId": "b67d3cc2-f141-4937-a8c2-0cc6fde199fb"
      },
      "source": [
        "a = sc.inverse_transform(a)\n",
        "a"
      ],
      "execution_count": 62,
      "outputs": [
        {
          "output_type": "execute_result",
          "data": {
            "text/plain": [
              "array([[2812.7488]], dtype=float32)"
            ]
          },
          "metadata": {
            "tags": []
          },
          "execution_count": 62
        }
      ]
    },
    {
      "cell_type": "code",
      "metadata": {
        "id": "F853zQmoD4JT",
        "colab_type": "code",
        "colab": {
          "base_uri": "https://localhost:8080/",
          "height": 34
        },
        "outputId": "e629ee2b-3df7-4daa-c126-50e1c4241d72"
      },
      "source": [
        "X_test.shape"
      ],
      "execution_count": 66,
      "outputs": [
        {
          "output_type": "execute_result",
          "data": {
            "text/plain": [
              "(100, 70, 1)"
            ]
          },
          "metadata": {
            "tags": []
          },
          "execution_count": 66
        }
      ]
    },
    {
      "cell_type": "code",
      "metadata": {
        "id": "F5Gy9A49D4MT",
        "colab_type": "code",
        "colab": {
          "base_uri": "https://localhost:8080/",
          "height": 34
        },
        "outputId": "0be57843-abc7-4c31-a5d2-246a2ecc09c7"
      },
      "source": [
        "a = sc.fit_transform(df.iloc[-70:, 2:3].values)\n",
        "len(a)"
      ],
      "execution_count": 102,
      "outputs": [
        {
          "output_type": "execute_result",
          "data": {
            "text/plain": [
              "70"
            ]
          },
          "metadata": {
            "tags": []
          },
          "execution_count": 102
        }
      ]
    },
    {
      "cell_type": "code",
      "metadata": {
        "id": "qpBJ7NHtD4Pl",
        "colab_type": "code",
        "colab": {
          "base_uri": "https://localhost:8080/",
          "height": 238
        },
        "outputId": "3a902ea8-7a29-400d-b79a-8c8f01dfe862"
      },
      "source": [
        "sc.inverse_transform(X_test.reshape(100,70))"
      ],
      "execution_count": 77,
      "outputs": [
        {
          "output_type": "execute_result",
          "data": {
            "text/plain": [
              "array([[2996.20495711, 2997.53514978, 2998.97275511, ..., 3007.45562527,\n",
              "        3006.82436931, 3006.47418247],\n",
              "       [2997.53514978, 2998.97275511, 2999.14784853, ..., 3006.82436931,\n",
              "        3006.47418247, 3000.62076712],\n",
              "       [2998.97275511, 2999.14784853, 2999.21111064, ..., 3006.47418247,\n",
              "        3000.62076712, 3000.13370997],\n",
              "       ...,\n",
              "       [3028.50760911, 3026.41079897, 3029.90990119, ..., 3019.49942278,\n",
              "        3026.05030196, 3026.45347665],\n",
              "       [3026.41079897, 3029.90990119, 3031.42844322, ..., 3026.05030196,\n",
              "        3026.45347665, 3027.60121149],\n",
              "       [3029.90990119, 3031.42844322, 3031.97876248, ..., 3026.45347665,\n",
              "        3027.60121149, 3029.96579888]])"
            ]
          },
          "metadata": {
            "tags": []
          },
          "execution_count": 77
        }
      ]
    },
    {
      "cell_type": "code",
      "metadata": {
        "id": "fH8lOnKVFc08",
        "colab_type": "code",
        "colab": {}
      },
      "source": [
        "prediction_for_tomorrow = regressor.predict(a.reshape(1, 70, 1))"
      ],
      "execution_count": 0,
      "outputs": []
    },
    {
      "cell_type": "code",
      "metadata": {
        "id": "dDTLo5SDFc4X",
        "colab_type": "code",
        "colab": {
          "base_uri": "https://localhost:8080/",
          "height": 51
        },
        "outputId": "11737371-adf0-43ef-d0af-920ba9ef655e"
      },
      "source": [
        "print(f'predicted Open S&P price for 10/19/2019 is:{sc.inverse_transform(prediction_for_tomorrow) + yo.iloc[:, 2].mean()}')\n",
        "print(f'predicted Open S&P price for 10/19/2019 with just RNN is:{sc.inverse_transform(prediction_for_tomorrow)}')"
      ],
      "execution_count": 106,
      "outputs": [
        {
          "output_type": "stream",
          "text": [
            "predicted Open S&P price for 10/19/2019 is:[[3036.128]]\n",
            "predicted Open S&P price for 10/19/2019 with just RNN is:[[2992.2754]]\n"
          ],
          "name": "stdout"
        }
      ]
    },
    {
      "cell_type": "code",
      "metadata": {
        "id": "KAkCecpUHQ0p",
        "colab_type": "code",
        "colab": {
          "base_uri": "https://localhost:8080/",
          "height": 235
        },
        "outputId": "111b43fb-3949-4123-dbac-31eca9cae65f"
      },
      "source": [
        "df.tail()"
      ],
      "execution_count": 86,
      "outputs": [
        {
          "output_type": "execute_result",
          "data": {
            "text/html": [
              "<div>\n",
              "<style scoped>\n",
              "    .dataframe tbody tr th:only-of-type {\n",
              "        vertical-align: middle;\n",
              "    }\n",
              "\n",
              "    .dataframe tbody tr th {\n",
              "        vertical-align: top;\n",
              "    }\n",
              "\n",
              "    .dataframe thead th {\n",
              "        text-align: right;\n",
              "    }\n",
              "</style>\n",
              "<table border=\"1\" class=\"dataframe\">\n",
              "  <thead>\n",
              "    <tr style=\"text-align: right;\">\n",
              "      <th></th>\n",
              "      <th>High</th>\n",
              "      <th>Low</th>\n",
              "      <th>Open</th>\n",
              "      <th>Close</th>\n",
              "      <th>Volume</th>\n",
              "      <th>Adj Close</th>\n",
              "    </tr>\n",
              "    <tr>\n",
              "      <th>Date</th>\n",
              "      <th></th>\n",
              "      <th></th>\n",
              "      <th></th>\n",
              "      <th></th>\n",
              "      <th></th>\n",
              "      <th></th>\n",
              "    </tr>\n",
              "  </thead>\n",
              "  <tbody>\n",
              "    <tr>\n",
              "      <th>2019-10-11</th>\n",
              "      <td>2993.280029</td>\n",
              "      <td>2963.070068</td>\n",
              "      <td>2963.070068</td>\n",
              "      <td>2970.270020</td>\n",
              "      <td>3580460000</td>\n",
              "      <td>2970.270020</td>\n",
              "    </tr>\n",
              "    <tr>\n",
              "      <th>2019-10-14</th>\n",
              "      <td>2972.840088</td>\n",
              "      <td>2962.939941</td>\n",
              "      <td>2965.810059</td>\n",
              "      <td>2966.149902</td>\n",
              "      <td>2557020000</td>\n",
              "      <td>2966.149902</td>\n",
              "    </tr>\n",
              "    <tr>\n",
              "      <th>2019-10-15</th>\n",
              "      <td>3003.280029</td>\n",
              "      <td>2973.610107</td>\n",
              "      <td>2973.610107</td>\n",
              "      <td>2995.679932</td>\n",
              "      <td>3340740000</td>\n",
              "      <td>2995.679932</td>\n",
              "    </tr>\n",
              "    <tr>\n",
              "      <th>2019-10-16</th>\n",
              "      <td>2997.540039</td>\n",
              "      <td>2985.199951</td>\n",
              "      <td>2989.679932</td>\n",
              "      <td>2989.689941</td>\n",
              "      <td>3222570000</td>\n",
              "      <td>2989.689941</td>\n",
              "    </tr>\n",
              "    <tr>\n",
              "      <th>2019-10-17</th>\n",
              "      <td>3008.290039</td>\n",
              "      <td>2991.790039</td>\n",
              "      <td>3000.770020</td>\n",
              "      <td>2997.949951</td>\n",
              "      <td>3115960000</td>\n",
              "      <td>2997.949951</td>\n",
              "    </tr>\n",
              "  </tbody>\n",
              "</table>\n",
              "</div>"
            ],
            "text/plain": [
              "                   High          Low  ...      Volume    Adj Close\n",
              "Date                                  ...                         \n",
              "2019-10-11  2993.280029  2963.070068  ...  3580460000  2970.270020\n",
              "2019-10-14  2972.840088  2962.939941  ...  2557020000  2966.149902\n",
              "2019-10-15  3003.280029  2973.610107  ...  3340740000  2995.679932\n",
              "2019-10-16  2997.540039  2985.199951  ...  3222570000  2989.689941\n",
              "2019-10-17  3008.290039  2991.790039  ...  3115960000  2997.949951\n",
              "\n",
              "[5 rows x 6 columns]"
            ]
          },
          "metadata": {
            "tags": []
          },
          "execution_count": 86
        }
      ]
    },
    {
      "cell_type": "code",
      "metadata": {
        "id": "KTmqc0jWI9AD",
        "colab_type": "code",
        "colab": {
          "base_uri": "https://localhost:8080/",
          "height": 204
        },
        "outputId": "7128eb7c-2d18-4b73-c039-c8c03e3555d6"
      },
      "source": [
        "pd.DataFrame(sc.inverse_transform(a)).tail()"
      ],
      "execution_count": 99,
      "outputs": [
        {
          "output_type": "execute_result",
          "data": {
            "text/html": [
              "<div>\n",
              "<style scoped>\n",
              "    .dataframe tbody tr th:only-of-type {\n",
              "        vertical-align: middle;\n",
              "    }\n",
              "\n",
              "    .dataframe tbody tr th {\n",
              "        vertical-align: top;\n",
              "    }\n",
              "\n",
              "    .dataframe thead th {\n",
              "        text-align: right;\n",
              "    }\n",
              "</style>\n",
              "<table border=\"1\" class=\"dataframe\">\n",
              "  <thead>\n",
              "    <tr style=\"text-align: right;\">\n",
              "      <th></th>\n",
              "      <th>0</th>\n",
              "    </tr>\n",
              "  </thead>\n",
              "  <tbody>\n",
              "    <tr>\n",
              "      <th>65</th>\n",
              "      <td>2918.550049</td>\n",
              "    </tr>\n",
              "    <tr>\n",
              "      <th>66</th>\n",
              "      <td>2963.070068</td>\n",
              "    </tr>\n",
              "    <tr>\n",
              "      <th>67</th>\n",
              "      <td>2965.810059</td>\n",
              "    </tr>\n",
              "    <tr>\n",
              "      <th>68</th>\n",
              "      <td>2973.610107</td>\n",
              "    </tr>\n",
              "    <tr>\n",
              "      <th>69</th>\n",
              "      <td>2989.679932</td>\n",
              "    </tr>\n",
              "  </tbody>\n",
              "</table>\n",
              "</div>"
            ],
            "text/plain": [
              "              0\n",
              "65  2918.550049\n",
              "66  2963.070068\n",
              "67  2965.810059\n",
              "68  2973.610107\n",
              "69  2989.679932"
            ]
          },
          "metadata": {
            "tags": []
          },
          "execution_count": 99
        }
      ]
    }
  ]
}